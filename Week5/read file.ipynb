{
 "cells": [
  {
   "cell_type": "code",
   "execution_count": 1,
   "id": "b449cd99",
   "metadata": {},
   "outputs": [],
   "source": [
    "import csv"
   ]
  },
  {
   "cell_type": "code",
   "execution_count": 9,
   "id": "d2bcde83",
   "metadata": {},
   "outputs": [
    {
     "name": "stdout",
     "output_type": "stream",
     "text": [
      "Microsoft Windows [Version 10.0.16299.15]\n",
      "(c) 2017 Microsoft Corporation. All rights reserved.\n",
      "\n",
      "C:\\Users\\scott>cd..\n",
      "\n",
      "C:\\Users>cd..\n",
      "\n",
      "C:\\>cd sqlite3\n",
      "\n",
      "C:\\sqlite3>sqlite3 python.db\n",
      "SQLite version 3.36.0 2021-06-18 18:36:39\n",
      "Enter \".help\" for usage hints.\n",
      "sqlite> create table student_mast\n",
      "   ...> (\n",
      "   ...>  stud_id int,\n",
      "   ...>  sname varchar(10),\n",
      "   ...>  sclass varchar(12)\n",
      "   ...> );\n",
      "sqlite> insert into student_mast values(101,'steven king',7);\n",
      "sqlite> insert into student_mast values(102,'noona kochhar',8);\n",
      "sqlite> insert into student_mast values(103,'lax de haan',9);\n",
      "sqlite> insert into student_mast values(104,'alexander hunold',10);\n",
      "\n",
      "sqlite> select*from student_mast;\n",
      "101|steven king|7\n",
      "102|noona kochhar|8\n",
      "103|lax de haan|9\n",
      "104|alexander hunold|10\n",
      "sqlite> .mode table\n",
      "sqlite> select*from student_mast;\n",
      "+---------+------------------+--------+\n",
      "| stud_id |      sname       | sclass |\n",
      "+---------+------------------+--------+\n",
      "| 101     | steven king      | 7      |\n",
      "| 102     | noona kochhar    | 8      |\n",
      "| 103     | lax de haan      | 9      |\n",
      "| 104     | alexander hunold | 10     |\n",
      "+---------+------------------+--------+\n",
      "\n",
      "sqlite> create trigger valid_name\n",
      "   ...> before insert on student_mast\n",
      "   ...> begin\n",
      "   ...> select\n",
      "   ...> case\n",
      "   ...> when new.name not like's_%' then\n",
      "   ...> raise(abort,'invalid name')\n",
      "   ...> end;\n",
      "   ...> end;\n",
      "sqlite> insert into student_mast values(11,'suhani',12);\n",
      "Error: no such column: new.name\n",
      "sqlite> insert into student_mast values(11,'sujal',12);\n",
      "Error: no such column: new.name\n",
      "sqlite> insert into student_mast values(11,'sujal',12);\n",
      "Error: no such column: new.name\n",
      "sqlite> .mode table\n",
      "sqlite> select*from student_mast;\n",
      "+---------+------------------+--------+\n",
      "| stud_id |      sname       | sclass |\n",
      "+---------+------------------+--------+\n",
      "| 101     | steven king      | 7      |\n",
      "| 102     | noona kochhar    | 8      |\n",
      "| 103     | lax de haan      | 9      |\n",
      "| 104     | alexander hunold | 10     |\n",
      "+---------+------------------+--------+\n",
      "sqlite> create trigger aft_update\n",
      "   ...> after update on student_mast\n",
      "   ...> begin\n",
      "   ...> insert into stu_log(description)values('update student record'||old.name||'previous class:'||old.st_class||'present class'||new.st_class);\n",
      "   ...> end;\n",
      "sqlite> now update the student_mast table;\n",
      "\n"
     ]
    }
   ],
   "source": [
    "with open ('c:\\\\sqlite3\\\\csv\\\\database2.txt','r',errors=\"ignore\")as f:\n",
    "    contents=f.read()\n",
    "    print(contents)"
   ]
  },
  {
   "cell_type": "code",
   "execution_count": null,
   "id": "0ca91977",
   "metadata": {},
   "outputs": [],
   "source": []
  },
  {
   "cell_type": "code",
   "execution_count": null,
   "id": "5d1b1442",
   "metadata": {},
   "outputs": [],
   "source": []
  }
 ],
 "metadata": {
  "kernelspec": {
   "display_name": "Python 3 (ipykernel)",
   "language": "python",
   "name": "python3"
  },
  "language_info": {
   "codemirror_mode": {
    "name": "ipython",
    "version": 3
   },
   "file_extension": ".py",
   "mimetype": "text/x-python",
   "name": "python",
   "nbconvert_exporter": "python",
   "pygments_lexer": "ipython3",
   "version": "3.9.6"
  }
 },
 "nbformat": 4,
 "nbformat_minor": 5
}
